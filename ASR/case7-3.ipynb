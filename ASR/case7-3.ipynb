{
 "cells": [
  {
   "cell_type": "markdown",
   "metadata": {},
   "source": [
    "####  利用飞桨构建房价预测神经网络模型"
   ]
  },
  {
   "cell_type": "code",
   "execution_count": 1,
   "metadata": {},
   "outputs": [],
   "source": [
    "#case7-3\n",
    "'''\n",
    "搭建一个房价预测的神经网络模型\n",
    "'''\n",
    "import paddle.fluid as fluid\n",
    "from paddle.fluid.dygraph import Linear"
   ]
  },
  {
   "cell_type": "code",
   "execution_count": 2,
   "metadata": {},
   "outputs": [],
   "source": [
    "class Regressor(fluid.dygraph.Layer):\n",
    "    def __init__(self):\n",
    "        super().__init__()\n",
    "        self.fc=Linear(input_dim=1,output_dim=1,act=None)\n",
    "    \n",
    "    def forward(self,inputs):\n",
    "        x=self.fc(inputs)\n",
    "        return x"
   ]
  }
 ],
 "metadata": {
  "kernelspec": {
   "display_name": "Python 3",
   "language": "python",
   "name": "python3"
  },
  "language_info": {
   "codemirror_mode": {
    "name": "ipython",
    "version": 3
   },
   "file_extension": ".py",
   "mimetype": "text/x-python",
   "name": "python",
   "nbconvert_exporter": "python",
   "pygments_lexer": "ipython3",
   "version": "3.7.4"
  }
 },
 "nbformat": 4,
 "nbformat_minor": 4
}
