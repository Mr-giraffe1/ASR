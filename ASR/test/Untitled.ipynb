{
 "cells": [
  {
   "cell_type": "code",
   "execution_count": 3,
   "metadata": {},
   "outputs": [
    {
     "ename": "ModuleNotFoundError",
     "evalue": "No module named 'general_function'",
     "output_type": "error",
     "traceback": [
      "\u001b[1;31m---------------------------------------------------------------------------\u001b[0m",
      "\u001b[1;31mModuleNotFoundError\u001b[0m                       Traceback (most recent call last)",
      "\u001b[1;32m<ipython-input-3-d59f1f397f88>\u001b[0m in \u001b[0;36m<module>\u001b[1;34m\u001b[0m\n\u001b[0;32m      8\u001b[0m \u001b[1;32mimport\u001b[0m \u001b[0mplatform\u001b[0m \u001b[1;32mas\u001b[0m \u001b[0mplat\u001b[0m\u001b[1;33m\u001b[0m\u001b[1;33m\u001b[0m\u001b[0m\n\u001b[0;32m      9\u001b[0m \u001b[1;33m\u001b[0m\u001b[0m\n\u001b[1;32m---> 10\u001b[1;33m \u001b[1;32mfrom\u001b[0m \u001b[0mSpeechModel251\u001b[0m \u001b[1;32mimport\u001b[0m \u001b[0mModelSpeech\u001b[0m\u001b[1;33m\u001b[0m\u001b[1;33m\u001b[0m\u001b[0m\n\u001b[0m\u001b[0;32m     11\u001b[0m \u001b[1;32mfrom\u001b[0m \u001b[0mLanguageModel2\u001b[0m \u001b[1;32mimport\u001b[0m \u001b[0mModelLanguage\u001b[0m\u001b[1;33m\u001b[0m\u001b[1;33m\u001b[0m\u001b[0m\n\u001b[0;32m     12\u001b[0m \u001b[1;32mfrom\u001b[0m \u001b[0mkeras\u001b[0m \u001b[1;32mimport\u001b[0m \u001b[0mbackend\u001b[0m \u001b[1;32mas\u001b[0m \u001b[0mK\u001b[0m\u001b[1;33m\u001b[0m\u001b[1;33m\u001b[0m\u001b[0m\n",
      "\u001b[1;32mE:\\jupyter-notebook\\AI_basic\\chapter7\\test\\SpeechModel251.py\u001b[0m in \u001b[0;36m<module>\u001b[1;34m\u001b[0m\n\u001b[0;32m      8\u001b[0m \u001b[1;32mimport\u001b[0m \u001b[0mtime\u001b[0m\u001b[1;33m\u001b[0m\u001b[1;33m\u001b[0m\u001b[0m\n\u001b[0;32m      9\u001b[0m \u001b[1;33m\u001b[0m\u001b[0m\n\u001b[1;32m---> 10\u001b[1;33m \u001b[1;32mfrom\u001b[0m \u001b[0mgeneral_function\u001b[0m\u001b[1;33m.\u001b[0m\u001b[0mfile_wav\u001b[0m \u001b[1;32mimport\u001b[0m \u001b[1;33m*\u001b[0m\u001b[1;33m\u001b[0m\u001b[1;33m\u001b[0m\u001b[0m\n\u001b[0m\u001b[0;32m     11\u001b[0m \u001b[1;32mfrom\u001b[0m \u001b[0mgeneral_function\u001b[0m\u001b[1;33m.\u001b[0m\u001b[0mfile_dict\u001b[0m \u001b[1;32mimport\u001b[0m \u001b[1;33m*\u001b[0m\u001b[1;33m\u001b[0m\u001b[1;33m\u001b[0m\u001b[0m\n\u001b[0;32m     12\u001b[0m \u001b[1;32mfrom\u001b[0m \u001b[0mgeneral_function\u001b[0m\u001b[1;33m.\u001b[0m\u001b[0mgen_func\u001b[0m \u001b[1;32mimport\u001b[0m \u001b[1;33m*\u001b[0m\u001b[1;33m\u001b[0m\u001b[1;33m\u001b[0m\u001b[0m\n",
      "\u001b[1;31mModuleNotFoundError\u001b[0m: No module named 'general_function'"
     ]
    }
   ],
   "source": [
    "#!/usr/bin/env python3\n",
    "# -*- coding: utf-8 -*-\n",
    "\"\"\"\n",
    "@author: nl8590687\n",
    "用于测试整个一套语音识别系统的程序\n",
    "语音模型 + 语言模型\n",
    "\"\"\"\n",
    "import platform as plat\n",
    "\n",
    "from SpeechModel251 import ModelSpeech\n",
    "from LanguageModel2 import ModelLanguage\n",
    "from keras import backend as K\n",
    "\n",
    "datapath = ''\n",
    "modelpath = 'model_speech'\n",
    "\n",
    "# system_type = plat.system() # 由于不同的系统的文件路径表示不一样，需要进行判断\n",
    "# if(system_type == 'Windows'):\n",
    "#     datapath = 'D:\\\\语音数据集'\n",
    "#     modelpath = modelpath + '\\\\'\n",
    "# elif(system_type == 'Linux'):\n",
    "#     datapath = 'dataset'\n",
    "#     modelpath = modelpath + '/'\n",
    "# else:\n",
    "#     print('*[Message] Unknown System\\n')\n",
    "#     datapath = 'dataset'\n",
    "#     modelpath = modelpath + '/'\n",
    "\n",
    "# ms = ModelSpeech(datapath)\n",
    "\n",
    "# #ms.LoadModel(modelpath + 'm22_2\\\\0\\\\speech_model22_e_0_step_257000.model')\n",
    "# ms.LoadModel(modelpath + 'm251\\\\speech_model251_e_0_step_12000.model')\n",
    "\n",
    "# #ms.TestModel(datapath, str_dataset='test', data_count = 64, out_report = True)\n",
    "# r = ms.RecognizeSpeech_FromFile('D:\\\\语音数据集\\\\ST-CMDS-20170001_1-OS\\\\20170001P00241I0052.wav')\n",
    "# #r = ms.RecognizeSpeech_FromFile('D:\\语音数据集\\ST-CMDS-20170001_1-OS\\\\20170001P00241I0053.wav')\n",
    "# #r = ms.RecognizeSpeech_FromFile('D:\\\\语音数据集\\\\ST-CMDS-20170001_1-OS\\\\20170001P00020I0087.wav')\n",
    "# #r = ms.RecognizeSpeech_FromFile('D:\\\\语音数据集\\\\data_thchs30\\\\data\\\\A11_167.WAV')\n",
    "# #r = ms.RecognizeSpeech_FromFile('D:\\\\语音数据集\\\\data_thchs30\\\\data\\\\D4_750.wav')\n",
    "\n",
    "# K.clear_session()\n",
    "\n",
    "# print('*[提示] 语音识别结果：\\n',r)\n",
    "\n",
    "\n",
    "# ml = ModelLanguage('model_language')\n",
    "# ml.LoadModel()\n",
    "\n",
    "# #str_pinyin = ['zhe4','zhen1','shi4','ji2', 'hao3','de5']\n",
    "# #str_pinyin = ['jin1', 'tian1', 'shi4', 'xing1', 'qi1', 'san1']\n",
    "# #str_pinyin = ['ni3', 'hao3','a1']\n",
    "# str_pinyin = r\n",
    "# #str_pinyin =  ['su1', 'bei3', 'jun1', 'de5', 'yi4','xie1', 'ai4', 'guo2', 'jiang4', 'shi4', 'ma3', 'zhan4', 'shan1', 'ming2', 'yi1', 'dong4', 'ta1', 'ju4', 'su1', 'bi3', 'ai4', 'dan4', 'tian2','mei2', 'bai3', 'ye3', 'fei1', 'qi3', 'kan4', 'zhan4']\n",
    "# r = ml.SpeechToText(str_pinyin)\n",
    "# print('语音转文字结果：\\n',r)\n"
   ]
  }
 ],
 "metadata": {
  "kernelspec": {
   "display_name": "Python 3",
   "language": "python",
   "name": "python3"
  },
  "language_info": {
   "codemirror_mode": {
    "name": "ipython",
    "version": 3
   },
   "file_extension": ".py",
   "mimetype": "text/x-python",
   "name": "python",
   "nbconvert_exporter": "python",
   "pygments_lexer": "ipython3",
   "version": "3.7.4"
  }
 },
 "nbformat": 4,
 "nbformat_minor": 4
}
